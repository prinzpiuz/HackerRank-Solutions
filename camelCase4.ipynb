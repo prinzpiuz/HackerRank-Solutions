{
 "cells": [
  {
   "attachments": {},
   "cell_type": "markdown",
   "metadata": {},
   "source": [
    "#### Camel Case 4"
   ]
  },
  {
   "cell_type": "code",
   "execution_count": 4,
   "metadata": {},
   "outputs": [
    {
     "name": "stdout",
     "output_type": "stream",
     "text": [
      "i pad\n",
      "plastic cup\n",
      "mobilePhone\n",
      "CoffeeMachine\n",
      "large software book\n",
      "whiteSheetOfPaper()\n",
      "picture frame\n"
     ]
    }
   ],
   "source": [
    "class StringManipulation:\n",
    "    def __init__(self, string):\n",
    "        self.string = string\n",
    "        self.string_components = string.split(\";\")\n",
    "        self.type_of_operation = self.string_components[0]\n",
    "        self.type_to_generate = self.string_components[1]\n",
    "        self.output_string = self.string_components[2]\n",
    "\n",
    "    def manipulate(self):\n",
    "        if self.type_of_operation == \"S\":\n",
    "            self.split_string()\n",
    "        else:\n",
    "            self.combine()\n",
    "        return self.output_string\n",
    "\n",
    "    def combine(self):\n",
    "        cobine_list = self.output_string.split(\" \")\n",
    "        for count, word in enumerate(cobine_list):\n",
    "            if self.type_to_generate == \"V\":\n",
    "                if count == 0:\n",
    "                    cobine_list[count] = word.lower()\n",
    "                else:\n",
    "                    cobine_list[count] = word.title()\n",
    "            elif self.type_to_generate == \"M\":\n",
    "                if not cobine_list.__contains__(\"()\"):\n",
    "                    cobine_list.append(\"()\")\n",
    "                if count == 0:\n",
    "                    cobine_list[count] = word.lower()\n",
    "                else:\n",
    "                    cobine_list[count] = word.title()\n",
    "            elif self.type_to_generate == \"C\":\n",
    "                cobine_list[count] = word.title()\n",
    "        self.output_string = \"\".join(cobine_list)\n",
    "        cobine_list.clear()\n",
    "\n",
    "    def split_string(self):\n",
    "        string_to_list = list(self.output_string.split(\"()\")[0])\n",
    "        copy_string_to_list = string_to_list.copy()\n",
    "        for char in string_to_list:\n",
    "            if char.isupper():\n",
    "                char_index = copy_string_to_list.index(char)\n",
    "                if char_index != 0:\n",
    "                    copy_string_to_list.insert(char_index, \" \")\n",
    "        self.output_string = \"\".join(copy_string_to_list).lower()\n",
    "\n",
    "\n",
    "string_list = [\n",
    "    \"S;V;iPad\",\n",
    "    \"S;M;plasticCup()\",\n",
    "    \"C;V;mobile phone\",\n",
    "    \"C;C;coffee machine\",\n",
    "    \"S;C;LargeSoftwareBook\",\n",
    "    \"C;M;white sheet of paper\",\n",
    "    \"S;V;pictureFrame\",\n",
    "]\n",
    "\n",
    "for string in string_list:\n",
    "    print(StringManipulation(string).manipulate())"
   ]
  },
  {
   "cell_type": "code",
   "execution_count": null,
   "metadata": {},
   "outputs": [],
   "source": []
  },
  {
   "cell_type": "code",
   "execution_count": null,
   "metadata": {},
   "outputs": [],
   "source": []
  },
  {
   "cell_type": "code",
   "execution_count": null,
   "metadata": {},
   "outputs": [],
   "source": []
  },
  {
   "cell_type": "code",
   "execution_count": null,
   "metadata": {},
   "outputs": [],
   "source": []
  },
  {
   "cell_type": "code",
   "execution_count": null,
   "metadata": {},
   "outputs": [],
   "source": []
  },
  {
   "cell_type": "code",
   "execution_count": null,
   "metadata": {},
   "outputs": [],
   "source": []
  },
  {
   "cell_type": "code",
   "execution_count": null,
   "metadata": {},
   "outputs": [],
   "source": []
  },
  {
   "cell_type": "code",
   "execution_count": null,
   "metadata": {},
   "outputs": [],
   "source": []
  },
  {
   "cell_type": "code",
   "execution_count": null,
   "metadata": {},
   "outputs": [],
   "source": []
  },
  {
   "cell_type": "markdown",
   "metadata": {},
   "source": []
  },
  {
   "cell_type": "code",
   "execution_count": null,
   "metadata": {},
   "outputs": [],
   "source": []
  },
  {
   "cell_type": "code",
   "execution_count": null,
   "metadata": {},
   "outputs": [],
   "source": []
  }
 ],
 "metadata": {
  "kernelspec": {
   "display_name": "hackerRank",
   "language": "python",
   "name": "python3"
  },
  "language_info": {
   "codemirror_mode": {
    "name": "ipython",
    "version": 3
   },
   "file_extension": ".py",
   "mimetype": "text/x-python",
   "name": "python",
   "nbconvert_exporter": "python",
   "pygments_lexer": "ipython3",
   "version": "3.9.2"
  },
  "orig_nbformat": 4,
  "vscode": {
   "interpreter": {
    "hash": "dde07b022068ed263be264ad6a3a2983b4581dcc37bec238c1b09b7f04dca0bf"
   }
  }
 },
 "nbformat": 4,
 "nbformat_minor": 2
}
